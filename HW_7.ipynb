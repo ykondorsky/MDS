{
 "cells": [
  {
   "cell_type": "markdown",
   "metadata": {
    "id": "T7ZzWaMVe71E"
   },
   "source": [
    "# Домашнее задание \"Теория вероятности. Дискретные Случайные Величины\"."
   ]
  },
  {
   "cell_type": "markdown",
   "metadata": {
    "id": "lanA1DNve73x"
   },
   "source": [
    "## Уровень 0:"
   ]
  },
  {
   "cell_type": "markdown",
   "metadata": {
    "id": "trLO6c0pfXRA"
   },
   "source": [
    "- Задание 1:"
   ]
  },
  {
   "cell_type": "markdown",
   "metadata": {
    "id": "1Fj_TgHpfXTP"
   },
   "source": [
    "Монетку подбрасывают 15 раз, найдите вероятность выпадения простого числа орлов."
   ]
  },
  {
   "cell_type": "markdown",
   "metadata": {},
   "source": [
    "### Почему такое рассуждение неверно? \n",
    "Благоприятствующие события - выпадение 2, 3, 5, 7, 11, 13 орлов. Всего 6 событий. Общее количество возможных исходов - 15. Тогда вероятность события будет 6/15 = 0.4."
   ]
  },
  {
   "cell_type": "markdown",
   "metadata": {},
   "source": [
    "### Расчёт по формуле Бернулли"
   ]
  },
  {
   "cell_type": "markdown",
   "metadata": {},
   "source": [
    "Событие «Из 15 бросков монет выпадет простое число орлов» состоит из 6 несовместных исходов:\n",
    "\n",
    "- 2 орла;\n",
    "- 3 орла;\n",
    "- 5 орлов;\n",
    "- 7 орлов;\n",
    "- 11 орлов;\n",
    "- 13 орлов.\n",
    "\n",
    "Вероятность каждого исхода по формуле Бернулли равна \n",
    "$P^m_n = C^m_np^mq^{n-m}$ <br>\n",
    "А вероятность интересующего нас события будет равна сумме вероятностей всех этих исходов."
   ]
  },
  {
   "cell_type": "code",
   "execution_count": 74,
   "metadata": {},
   "outputs": [],
   "source": [
    "import math\n",
    "\n",
    "def binom_coeff(m, n):\n",
    "    return math.factorial(n) / (math.factorial(m) * math.factorial(n-m))"
   ]
  },
  {
   "cell_type": "code",
   "execution_count": 75,
   "metadata": {
    "scrolled": true
   },
   "outputs": [
    {
     "name": "stdout",
     "output_type": "stream",
     "text": [
      "0.3499755859375\n"
     ]
    }
   ],
   "source": [
    "x = [2, 3, 5, 7, 11, 13]\n",
    "p_total = 0\n",
    "p = 0.5\n",
    "q = 0.5 # 1-p\n",
    "n = 15\n",
    "for m in x:\n",
    "    p_total += binom_coeff(m, n) * (p**m) * (q**(n-m))\n",
    "\n",
    "print(p_total)"
   ]
  },
  {
   "cell_type": "markdown",
   "metadata": {
    "id": "uqHn2CtkfXVb"
   },
   "source": [
    "- Задание 2:"
   ]
  },
  {
   "cell_type": "markdown",
   "metadata": {
    "id": "dc5gqI8gfXXk"
   },
   "source": [
    "\n",
    "Создайте свою дискретную случайную величину с не менее, чем 10 значениями. Просемплируйте 1000 случайных значений, постройте гистограмму плотности распределения по выборке, посчитайте среднее, дисперсию и медиану."
   ]
  },
  {
   "cell_type": "code",
   "execution_count": 25,
   "metadata": {},
   "outputs": [],
   "source": [
    "from scipy.stats import *\n",
    "import matplotlib.pyplot as plt"
   ]
  },
  {
   "cell_type": "code",
   "execution_count": 76,
   "metadata": {
    "scrolled": true
   },
   "outputs": [
    {
     "data": {
      "text/plain": [
       "(array([ 95.,  99., 107.,  98.,  98., 108.,  88., 105., 104.,  98.]),\n",
       " array([0. , 0.9, 1.8, 2.7, 3.6, 4.5, 5.4, 6.3, 7.2, 8.1, 9. ]),\n",
       " <BarContainer object of 10 artists>)"
      ]
     },
     "execution_count": 76,
     "metadata": {},
     "output_type": "execute_result"
    },
    {
     "data": {
      "image/png": "[encoded data removed]",
      "text/plain": [
       "<Figure size 432x288 with 1 Axes>"
      ]
     },
     "metadata": {
      "needs_background": "light"
     },
     "output_type": "display_data"
    }
   ],
   "source": [
    "import numpy as np\n",
    "\n",
    "x = np.random.randint(low = 0, high = 10, size = 1000)\n",
    "plt.hist(x) "
   ]
  },
  {
   "cell_type": "code",
   "execution_count": 80,
   "metadata": {},
   "outputs": [
    {
     "name": "stdout",
     "output_type": "stream",
     "text": [
      "Среднее = 4.516\n",
      "Дисперсия = 8.189744\n",
      "Медиана = 5.0\n"
     ]
    }
   ],
   "source": [
    "print('Среднее = {}'.format(np.mean(x)))\n",
    "print('Дисперсия = {}'.format(np.var(x)))\n",
    "print('Медиана = {}'.format(np.median(x)))"
   ]
  },
  {
   "cell_type": "markdown",
   "metadata": {
    "id": "_6YnMFxzfS86"
   },
   "source": [
    "## Уровень 1:"
   ]
  },
  {
   "cell_type": "markdown",
   "metadata": {
    "id": "kCHPejMofn6b"
   },
   "source": [
    "- Задание 3:\n"
   ]
  },
  {
   "cell_type": "markdown",
   "metadata": {
    "id": "HfOQo_qkfmYC"
   },
   "source": [
    "Пусть брошены 3 уравновешенные монеты.\n",
    "\n",
    "Рассмотрим 3 события:\n",
    "\n",
    "A1 - монеты 1 и 2 упали одной и той же стороной;\n",
    "\n",
    "A2 - монеты 2 и 3 упали одной и той же стороной;\n",
    "\n",
    "A3 - монеты 1 и 3 упали одной и той же стороной.\n",
    "\n",
    "Покажите, почему эти 3 события (A1, A2, A3) являются попарно независимыми, но не являются независимыми в совокупности."
   ]
  },
  {
   "cell_type": "markdown",
   "metadata": {},
   "source": [
    "Два события А и В являются независимыми, если $P(AB) = P(A) * P(B)$. Для любой пары из (А1, А2, А3) $P(A_iA_j) = 1/4 = 1/2 * 1/2 = P(A_i) * P(A_j)  \\forall i, j$, т. е. события попарно независимы. Однако если произошли, например, события А1 и А2, то мы точно знаем, что событие А3 также наступило. Т. е. $P(A_1) * P(A_2) * P(A_3) = 1/2 * 1/2 * 1/2 \\neq 1/4 = P(A_1A_2A_3)  $ "
   ]
  },
  {
   "cell_type": "markdown",
   "metadata": {
    "id": "S29TzpYSfmaC"
   },
   "source": [
    "- Задание 4 (формула полной вероятности):\n"
   ]
  },
  {
   "cell_type": "markdown",
   "metadata": {
    "id": "tDprfzp-fmcP"
   },
   "source": [
    "В магазин привезли устройства с 3-х разных предприятий. \n",
    "\n",
    "Соотношение устройств следующее: 20% - продукция первого предприятия, 30% - продукция второго предприятия, 50% - продукция третьего предприятия; далее, 10% продукции первого предприятия высшего сорта, на втором предприятии - 5% и на третьем - 20% продукции высшего сорта. \n",
    "\n",
    "Найти вероятность того, что случайно купленная новая продукция окажется высшего сорта."
   ]
  },
  {
   "cell_type": "markdown",
   "metadata": {},
   "source": [
    "Пусть событие B1 - случайно взятое устройство куплено с первого предприятия и т. д. Тогда\n",
    "$P(B_1) = 0.2, P(B_2) = 0.3, P(B_3) = 0.5$. \n",
    "Вероятность события А (случайно взятое устройство окажется высшего сорта) для этих трёх случаев равна:\n",
    "$P_{B1}(A) = 0.1, P_{B2}(A) = 0.05, P_{B3}(A) = 0.2$. \n",
    "Полная вероятность события А в таком случае:\n",
    "$P(A) = P(B_1) * P_{B1}(A) + P(B_2) * P_{B2}(A) + P(B_3) * P_{B3}(A) = 0.2 * 0.1 + 0.3 * 0.05 + 0.5 * 0.2 = 0.135$"
   ]
  }
 ],
 "metadata": {
  "colab": {
   "name": "HW_7",
   "provenance": []
  },
  "kernelspec": {
   "display_name": "Python 3",
   "language": "python",
   "name": "python3"
  },
  "language_info": {
   "codemirror_mode": {
    "name": "ipython",
    "version": 3
   },
   "file_extension": ".py",
   "mimetype": "text/x-python",
   "name": "python",
   "nbconvert_exporter": "python",
   "pygments_lexer": "ipython3",
   "version": "3.8.5"
  }
 },
 "nbformat": 4,
 "nbformat_minor": 1
}
