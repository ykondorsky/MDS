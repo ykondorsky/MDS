{
 "cells": [
  {
   "cell_type": "markdown",
   "metadata": {
    "id": "fnTx5JrSddQV"
   },
   "source": [
    "# Домашнее задание \"Теория оптимизации\"."
   ]
  },
  {
   "cell_type": "markdown",
   "metadata": {
    "id": "Gwx7jfeReY-R"
   },
   "source": [
    "### Задание."
   ]
  },
  {
   "cell_type": "markdown",
   "metadata": {
    "id": "4JhHuyKfddSw"
   },
   "source": [
    "При фиксированном seed=42 поразбирайтесь и поэкспериментируйте с параметрами алгоритма дифференциальной эволюции: strategy, popsize, tol, mutation, recombination и updating.\n",
    "\n",
    "Постройте графики количества итераций оптимизации функции ackley от значения параметра."
   ]
  },
  {
   "cell_type": "markdown",
   "metadata": {
    "id": "AoJvQgnVddUy"
   },
   "source": [
    "### Дополнительное задание."
   ]
  },
  {
   "cell_type": "markdown",
   "metadata": {
    "id": "0G9zpm2ZddWr"
   },
   "source": [
    "Найти множество параметров (strategy=..., ..., updating=...), которые требуют минимального количества итераций."
   ]
  },
  {
   "cell_type": "code",
   "execution_count": 2,
   "metadata": {
    "id": "mKoDq1O9epjS"
   },
   "outputs": [],
   "source": [
    "import numpy as np\n",
    "import matplotlib.pyplot as plt\n",
    "from scipy.optimize import differential_evolution"
   ]
  },
  {
   "cell_type": "markdown",
   "metadata": {},
   "source": [
    "Strategy - стратегия, задающая тип эволюционного поиска. Описывается формулой x/y/z, где:\n",
    "- x - метод выбора кандидата из популяции (может быть rand - случайное решение, best - лучшее решение и др.);\n",
    "- y - количество разностных векторов, добавляемых к выбранному решению (обычно 1 или 2);\n",
    "- z - распределение, определяющее вероятность замены кандидата новым (обычно биномиальное bin или экспоненциальное exp).\n",
    "Стратегия по умолчанию - best1bin. "
   ]
  },
  {
   "cell_type": "code",
   "execution_count": 4,
   "metadata": {
    "colab": {
     "base_uri": "https://localhost:8080/"
    },
    "id": "2BlN34tSeplM",
    "outputId": "086f6737-3509-4971-dea7-6ee184c96e8e"
   },
   "outputs": [
    {
     "data": {
      "text/plain": [
       "     fun: 4.440892098500626e-16\n",
       " message: 'Optimization terminated successfully.'\n",
       "    nfev: 2793\n",
       "     nit: 90\n",
       " success: True\n",
       "       x: array([0., 0.])"
      ]
     },
     "execution_count": 4,
     "metadata": {},
     "output_type": "execute_result"
    }
   ],
   "source": [
    "def ackley(x):\n",
    "    arg1 = -0.2 * np.sqrt(0.5 * (x[0] ** 2 + x[1] ** 2))\n",
    "    arg2 = 0.5 * (np.cos(2. * np.pi * x[0]) + np.cos(2. * np.pi * x[1]))\n",
    "    return -20. * np.exp(arg1) - np.exp(arg2) + 20. + np.e\n",
    "\n",
    "bounds = [(-10, 10), (-10, 10)]\n",
    "\n",
    "result = differential_evolution(ackley, bounds, seed=42)\n",
    "result"
   ]
  },
  {
   "cell_type": "code",
   "execution_count": 8,
   "metadata": {},
   "outputs": [
    {
     "name": "stdout",
     "output_type": "stream",
     "text": [
      "strat = best1bin, x = [0. 0.], f = 4.440892098500626e-16, iter = 90\n",
      "strat = best1exp, x = [0. 0.], f = 4.440892098500626e-16, iter = 147\n",
      "strat = rand1exp, x = [0. 0.], f = 4.440892098500626e-16, iter = 246\n",
      "strat = randtobest1exp, x = [0. 0.], f = 4.440892098500626e-16, iter = 156\n",
      "strat = currenttobest1exp, x = [0. 0.], f = 4.440892098500626e-16, iter = 1000\n",
      "strat = best2exp, x = [0. 0.], f = 4.440892098500626e-16, iter = 244\n",
      "strat = rand2exp, x = [0. 0.], f = 4.440892098500626e-16, iter = 341\n",
      "strat = randtobest1bin, x = [0. 0.], f = 4.440892098500626e-16, iter = 101\n",
      "strat = currenttobest1bin, x = [0. 0.], f = 4.440892098500626e-16, iter = 1000\n",
      "strat = best2bin, x = [0. 0.], f = 4.440892098500626e-16, iter = 166\n",
      "strat = rand2bin, x = [0. 0.], f = 4.440892098500626e-16, iter = 232\n",
      "strat = rand1bin, x = [0. 0.], f = 4.440892098500626e-16, iter = 168\n"
     ]
    }
   ],
   "source": [
    "strats = ['best1bin', \n",
    "          'best1exp', \n",
    "          'rand1exp',\n",
    "          'randtobest1exp',\n",
    "          'currenttobest1exp',\n",
    "          'best2exp',\n",
    "          'rand2exp',\n",
    "          'randtobest1bin',\n",
    "          'currenttobest1bin',\n",
    "          'best2bin',\n",
    "          'rand2bin',\n",
    "          'rand1bin']\n",
    "\n",
    "for strat in strats:\n",
    "    result = differential_evolution(ackley, bounds, strategy = strat, seed=42)\n",
    "    print('strat = {}, x = {}, f = {}, iter = {}'.format(strat, result['x'], result['fun'], result['nit']))"
   ]
  },
  {
   "cell_type": "markdown",
   "metadata": {},
   "source": [
    "Видим, что наименьшее количество итераций именно у стратегии по умолчанию - best1bin."
   ]
  },
  {
   "cell_type": "markdown",
   "metadata": {},
   "source": [
    "Popsize - множитель, задающий размер популяции. Количество кандидатов в популяции в итоге равно popsize * len(x). Значение по умолчанию - 15."
   ]
  },
  {
   "cell_type": "code",
   "execution_count": 11,
   "metadata": {},
   "outputs": [
    {
     "name": "stdout",
     "output_type": "stream",
     "text": [
      "popsize = 10, x = [0. 0.], f = 4.440892098500626e-16, iter = 97\n",
      "popsize = 20, x = [0. 0.], f = 4.440892098500626e-16, iter = 95\n",
      "popsize = 30, x = [0. 0.], f = 4.440892098500626e-16, iter = 99\n",
      "popsize = 40, x = [0. 0.], f = 4.440892098500626e-16, iter = 98\n",
      "popsize = 50, x = [0. 0.], f = 4.440892098500626e-16, iter = 98\n",
      "popsize = 60, x = [0. 0.], f = 4.440892098500626e-16, iter = 98\n",
      "popsize = 70, x = [0. 0.], f = 4.440892098500626e-16, iter = 96\n",
      "popsize = 80, x = [0. 0.], f = 4.440892098500626e-16, iter = 95\n",
      "popsize = 90, x = [0. 0.], f = 4.440892098500626e-16, iter = 96\n",
      "popsize = 100, x = [0. 0.], f = 4.440892098500626e-16, iter = 101\n",
      "popsize = 110, x = [0. 0.], f = 4.440892098500626e-16, iter = 100\n",
      "popsize = 120, x = [0. 0.], f = 4.440892098500626e-16, iter = 101\n",
      "popsize = 130, x = [0. 0.], f = 4.440892098500626e-16, iter = 97\n",
      "popsize = 140, x = [0. 0.], f = 4.440892098500626e-16, iter = 92\n",
      "popsize = 150, x = [0. 0.], f = 4.440892098500626e-16, iter = 99\n",
      "popsize = 160, x = [0. 0.], f = 4.440892098500626e-16, iter = 101\n",
      "popsize = 170, x = [0. 0.], f = 4.440892098500626e-16, iter = 100\n",
      "popsize = 180, x = [0. 0.], f = 4.440892098500626e-16, iter = 98\n",
      "popsize = 190, x = [0. 0.], f = 4.440892098500626e-16, iter = 91\n"
     ]
    }
   ],
   "source": [
    "for i in range (10, 200, 10):\n",
    "    result = differential_evolution(ackley, bounds, popsize=i, seed=42)\n",
    "    print('popsize = {}, x = {}, f = {}, iter = {}'.format(i, result['x'], result['fun'], result['nit']))"
   ]
  },
  {
   "cell_type": "markdown",
   "metadata": {},
   "source": [
    "Видим, что в данном случае этот параметр не сильно влияет на количество итераций. Зато время выполнения увеличивается пропорционально."
   ]
  },
  {
   "cell_type": "markdown",
   "metadata": {},
   "source": [
    "tol - параметр, определяющий условие останова цикла (относительная толерантность). Помогает сходимости алгоритма. Значение по умолчанию - 0.01"
   ]
  },
  {
   "cell_type": "code",
   "execution_count": 5,
   "metadata": {},
   "outputs": [
    {
     "name": "stdout",
     "output_type": "stream",
     "text": [
      "tol = 0.001, x = [0. 0.], f = 4.440892098500626e-16, iter = 90\n",
      "tol = 0.006, x = [0. 0.], f = 4.440892098500626e-16, iter = 90\n",
      "tol = 0.011, x = [0. 0.], f = 4.440892098500626e-16, iter = 90\n",
      "tol = 0.016, x = [0. 0.], f = 4.440892098500626e-16, iter = 90\n",
      "tol = 0.021, x = [0. 0.], f = 4.440892098500626e-16, iter = 90\n",
      "tol = 0.026, x = [0. 0.], f = 4.440892098500626e-16, iter = 90\n",
      "tol = 0.031, x = [0. 0.], f = 4.440892098500626e-16, iter = 90\n",
      "tol = 0.036, x = [0. 0.], f = 4.440892098500626e-16, iter = 90\n",
      "tol = 0.041, x = [0. 0.], f = 4.440892098500626e-16, iter = 90\n",
      "tol = 0.046, x = [0. 0.], f = 4.440892098500626e-16, iter = 90\n",
      "tol = 0.051, x = [0. 0.], f = 4.440892098500626e-16, iter = 90\n",
      "tol = 0.056, x = [0. 0.], f = 4.440892098500626e-16, iter = 90\n",
      "tol = 0.061, x = [0. 0.], f = 4.440892098500626e-16, iter = 90\n",
      "tol = 0.066, x = [0. 0.], f = 4.440892098500626e-16, iter = 90\n",
      "tol = 0.071, x = [0. 0.], f = 4.440892098500626e-16, iter = 90\n",
      "tol = 0.076, x = [0. 0.], f = 4.440892098500626e-16, iter = 90\n",
      "tol = 0.081, x = [0. 0.], f = 4.440892098500626e-16, iter = 90\n",
      "tol = 0.086, x = [0. 0.], f = 4.440892098500626e-16, iter = 90\n",
      "tol = 0.091, x = [0. 0.], f = 4.440892098500626e-16, iter = 90\n",
      "tol = 0.096, x = [0. 0.], f = 4.440892098500626e-16, iter = 90\n"
     ]
    }
   ],
   "source": [
    "for i in range (1, 100, 5):\n",
    "    result = differential_evolution(ackley, bounds, tol=i/1000, seed=42)\n",
    "    print('tol = {}, x = {}, f = {}, iter = {}'.format(i/1000, result['x'], result['fun'], result['nit']))"
   ]
  },
  {
   "cell_type": "markdown",
   "metadata": {},
   "source": [
    "Этот параметр для данной функции также не влияет на количество итераций."
   ]
  },
  {
   "cell_type": "markdown",
   "metadata": {},
   "source": [
    "mutation - параметр мутантного вектора (вес). Значение по умолчанию - 0.5."
   ]
  },
  {
   "cell_type": "code",
   "execution_count": 37,
   "metadata": {},
   "outputs": [
    {
     "name": "stdout",
     "output_type": "stream",
     "text": [
      "mutation = 0.1, x = [0.96847769 0.96847738], f = 3.5744518772596803, iter = 5\n",
      "mutation = 0.2, x = [0. 0.], f = 4.440892098500626e-16, iter = 28\n",
      "mutation = 0.3, x = [0. 0.], f = 4.440892098500626e-16, iter = 38\n",
      "mutation = 0.4, x = [0. 0.], f = 4.440892098500626e-16, iter = 47\n",
      "mutation = 0.5, x = [0. 0.], f = 4.440892098500626e-16, iter = 57\n",
      "mutation = 0.6, x = [0. 0.], f = 4.440892098500626e-16, iter = 76\n",
      "mutation = 0.7, x = [0. 0.], f = 4.440892098500626e-16, iter = 91\n",
      "mutation = 0.8, x = [0. 0.], f = 4.440892098500626e-16, iter = 104\n",
      "mutation = 0.9, x = [0. 0.], f = 4.440892098500626e-16, iter = 137\n"
     ]
    }
   ],
   "source": [
    "indices = []\n",
    "results = []\n",
    "\n",
    "for i in range (1, 10, 1):\n",
    "    result = differential_evolution(ackley, bounds, mutation=i/10, seed=42)\n",
    "    indices.append(i/10)\n",
    "    results.append(result['nit'])\n",
    "    print('mutation = {}, x = {}, f = {}, iter = {}'.format(i/10, result['x'], result['fun'], result['nit']))"
   ]
  },
  {
   "cell_type": "markdown",
   "metadata": {},
   "source": [
    "Здесь наблюдаем пропорциональное увеличение количества итераций в зависимости от параметра. "
   ]
  },
  {
   "cell_type": "code",
   "execution_count": 40,
   "metadata": {},
   "outputs": [
    {
     "data": {
      "text/plain": [
       "[<matplotlib.lines.Line2D at 0x16201a2eac0>]"
      ]
     },
     "execution_count": 40,
     "metadata": {},
     "output_type": "execute_result"
    },
    {
     "data": {
      "image/png": "[encoded data removed]",
      "text/plain": [
       "<Figure size 432x288 with 1 Axes>"
      ]
     },
     "metadata": {
      "needs_background": "light"
     },
     "output_type": "display_data"
    }
   ],
   "source": [
    "plt.plot(indices, results)"
   ]
  },
  {
   "cell_type": "markdown",
   "metadata": {},
   "source": [
    "recombination - множитель вероятности попадания мутантов в новое поколение. Чем он больше, тем больше мутантов в новом поколении, но при этом возрастает риск нестабильности поколения. Значение по умолчанию - 0.7."
   ]
  },
  {
   "cell_type": "code",
   "execution_count": 41,
   "metadata": {},
   "outputs": [
    {
     "name": "stdout",
     "output_type": "stream",
     "text": [
      "recombination = 0.1, x = [0. 0.], f = 4.440892098500626e-16, iter = 126\n",
      "recombination = 0.2, x = [0. 0.], f = 4.440892098500626e-16, iter = 110\n",
      "recombination = 0.3, x = [0. 0.], f = 4.440892098500626e-16, iter = 108\n",
      "recombination = 0.4, x = [0. 0.], f = 4.440892098500626e-16, iter = 108\n",
      "recombination = 0.5, x = [0. 0.], f = 4.440892098500626e-16, iter = 107\n",
      "recombination = 0.6, x = [0. 0.], f = 4.440892098500626e-16, iter = 96\n",
      "recombination = 0.7, x = [0. 0.], f = 4.440892098500626e-16, iter = 90\n",
      "recombination = 0.8, x = [0. 0.], f = 4.440892098500626e-16, iter = 84\n",
      "recombination = 0.9, x = [0. 0.], f = 4.440892098500626e-16, iter = 85\n"
     ]
    }
   ],
   "source": [
    "indices = []\n",
    "results = []\n",
    "\n",
    "for i in range (1, 10, 1):\n",
    "    result = differential_evolution(ackley, bounds, recombination=i/10, seed=42)\n",
    "    indices.append(i/10)\n",
    "    results.append(result['nit'])\n",
    "    print('recombination = {}, x = {}, f = {}, iter = {}'.format(i/10, result['x'], result['fun'], result['nit']))"
   ]
  },
  {
   "cell_type": "markdown",
   "metadata": {},
   "source": [
    "В данном случае наблюдается обратная зависимость между параметром recombination и количество итераций. "
   ]
  },
  {
   "cell_type": "code",
   "execution_count": 42,
   "metadata": {},
   "outputs": [
    {
     "data": {
      "text/plain": [
       "[<matplotlib.lines.Line2D at 0x16201a9fe50>]"
      ]
     },
     "execution_count": 42,
     "metadata": {},
     "output_type": "execute_result"
    },
    {
     "data": {
      "image/png": "[encoded data removed]",
      "text/plain": [
       "<Figure size 432x288 with 1 Axes>"
      ]
     },
     "metadata": {
      "needs_background": "light"
     },
     "output_type": "display_data"
    }
   ],
   "source": [
    "plt.plot(indices, results)"
   ]
  },
  {
   "cell_type": "markdown",
   "metadata": {},
   "source": [
    "updating - обновление, немедленное или отложенное. При немедленном обновлении лучший кандидат обновляется постоянно в пределах одного поколения. При отложенном - один раз за поколение. По умолчанию - немедленное."
   ]
  },
  {
   "cell_type": "code",
   "execution_count": 30,
   "metadata": {},
   "outputs": [
    {
     "name": "stdout",
     "output_type": "stream",
     "text": [
      "     fun: 4.440892098500626e-16\n",
      " message: 'Optimization terminated successfully.'\n",
      "    nfev: 2793\n",
      "     nit: 90\n",
      " success: True\n",
      "       x: array([0., 0.])\n"
     ]
    }
   ],
   "source": [
    "print(differential_evolution(ackley, bounds, updating='immediate', seed=42))"
   ]
  },
  {
   "cell_type": "code",
   "execution_count": 31,
   "metadata": {},
   "outputs": [
    {
     "name": "stdout",
     "output_type": "stream",
     "text": [
      "     fun: 4.440892098500626e-16\n",
      " message: 'Optimization terminated successfully.'\n",
      "    nfev: 3753\n",
      "     nit: 122\n",
      " success: True\n",
      "       x: array([0., 0.])\n"
     ]
    }
   ],
   "source": [
    "print(differential_evolution(ackley, bounds, updating='deferred', seed=42))"
   ]
  },
  {
   "cell_type": "markdown",
   "metadata": {},
   "source": [
    "Наблюдаем увеличение количества итераций при отложенном обновлении. С другой стороны, в этом случае возможна параллелизация процесса. "
   ]
  }
 ],
 "metadata": {
  "colab": {
   "collapsed_sections": [],
   "name": "HW_6",
   "provenance": []
  },
  "kernelspec": {
   "display_name": "Python 3",
   "language": "python",
   "name": "python3"
  },
  "language_info": {
   "codemirror_mode": {
    "name": "ipython",
    "version": 3
   },
   "file_extension": ".py",
   "mimetype": "text/x-python",
   "name": "python",
   "nbconvert_exporter": "python",
   "pygments_lexer": "ipython3",
   "version": "3.8.5"
  }
 },
 "nbformat": 4,
 "nbformat_minor": 1
}
