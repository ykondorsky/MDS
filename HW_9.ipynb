{
 "cells": [
  {
   "cell_type": "markdown",
   "metadata": {
    "id": "rPddd74VhkfN"
   },
   "source": [
    "# Домашнее задание \"Центральная Предельная Теорема и Закон Больших Чисел\"."
   ]
  },
  {
   "cell_type": "markdown",
   "metadata": {
    "id": "1xu7dfnnhkhe"
   },
   "source": [
    "## Задание."
   ]
  },
  {
   "cell_type": "markdown",
   "metadata": {
    "id": "zsrwAGpYhkjt"
   },
   "source": [
    "В этом задании нужно убедиться, что ЦПТ действительно работает."
   ]
  },
  {
   "cell_type": "code",
   "execution_count": 106,
   "metadata": {
    "id": "0gLLPjJiiRm2"
   },
   "outputs": [],
   "source": [
    "import pandas as pd\n",
    "import numpy as np\n",
    "import matplotlib.pyplot as plt\n",
    "import scipy.stats as stats\n",
    "import math\n",
    "%matplotlib inline"
   ]
  },
  {
   "cell_type": "markdown",
   "metadata": {
    "id": "uI8KNiPUhkly"
   },
   "source": [
    "Создайте случайную величину из любого выбранного вами распределения, для разных значений n сгенерируйте 1000 выборок размера n и постройте гистрограммы средних этих выборок."
   ]
  },
  {
   "cell_type": "code",
   "execution_count": 12,
   "metadata": {
    "id": "ZvGvPtzViURC"
   },
   "outputs": [],
   "source": [
    "rv = stats.expon(0.25)\n",
    "sample = rv.rvs(size=1000)"
   ]
  },
  {
   "cell_type": "code",
   "execution_count": 13,
   "metadata": {
    "id": "XSpWp8P3iUfO"
   },
   "outputs": [
    {
     "data": {
      "image/png": "[encoded data removed]",
      "text/plain": [
       "<Figure size 432x288 with 1 Axes>"
      ]
     },
     "metadata": {
      "needs_background": "light"
     },
     "output_type": "display_data"
    }
   ],
   "source": [
    "x = np.linspace(0,2,100)\n",
    "pdf = rv.pdf(x)\n",
    "plt.hist(sample, density=True, bins=30, label='sample histogram')\n",
    "plt.plot(x, pdf, label='theoretical pdf', alpha=0.5)\n",
    "plt.legend()\n",
    "plt.ylabel('fraction of samples, $f(x)$')\n",
    "plt.xlabel('$x$')\n",
    "plt.show()"
   ]
  },
  {
   "cell_type": "code",
   "execution_count": 78,
   "metadata": {
    "id": "Rm7dyNaRib1G"
   },
   "outputs": [],
   "source": [
    "# Параметры запуска: размеры выборок и количество повторов генерации\n",
    "sizes = [2, 10, 50, 500]\n",
    "\n",
    "samples_count = 1000\n",
    "# Массивы для сохранения средних по выборкам\n",
    "total_means = []\n",
    "\n",
    "for size_ in sizes:\n",
    "    a = np.array([])\n",
    "    for number in range(samples_count):\n",
    "        # На каждом цикле генерируем выборки разных размеров\n",
    "        sample1 = rv.rvs(size=size_)\n",
    "        a = np.append(a, sample1.mean())\n",
    "    #print(a.shape)\n",
    "    total_means.append(a)\n",
    "#total_means"
   ]
  },
  {
   "cell_type": "code",
   "execution_count": 80,
   "metadata": {},
   "outputs": [
    {
     "data": {
      "image/png": "[encoded data removed]",
      "text/plain": [
       "<Figure size 720x720 with 4 Axes>"
      ]
     },
     "metadata": {
      "needs_background": "light"
     },
     "output_type": "display_data"
    }
   ],
   "source": [
    "fig, axs = plt.subplots(2, 2, figsize=(10,10))\n",
    "axs[0, 0].hist(total_means[0], density=True, color='tab:orange')\n",
    "axs[0, 0].set_title('n = 2')\n",
    "axs[0, 1].hist(total_means[1], density=True, color='tab:blue')\n",
    "axs[0, 1].set_title('n = 10')\n",
    "axs[1, 0].hist(total_means[2], density=True, color='tab:purple')\n",
    "axs[1, 0].set_title('n = 50')\n",
    "axs[1, 1].hist(total_means[3], density=True, color='tab:cyan')\n",
    "axs[1, 1].set_title('n = 500')\n",
    "\n",
    "for ax in axs.flat:\n",
    "    ax.set(xlabel='x', ylabel='sample means')\n",
    "\n",
    "for ax in axs.flat:\n",
    "    ax.label_outer()"
   ]
  },
  {
   "cell_type": "markdown",
   "metadata": {},
   "source": [
    "Как мы видим, при увеличении размера выборки распределение выборочных средних стремится к нормальному. При этом средние значения выборок стремятся к среднему значению популяции:"
   ]
  },
  {
   "cell_type": "code",
   "execution_count": 86,
   "metadata": {},
   "outputs": [
    {
     "data": {
      "text/plain": [
       "1.2586120837994936"
      ]
     },
     "execution_count": 86,
     "metadata": {},
     "output_type": "execute_result"
    }
   ],
   "source": [
    "sample.mean() # среднее генеральной совокупности"
   ]
  },
  {
   "cell_type": "code",
   "execution_count": 92,
   "metadata": {},
   "outputs": [
    {
     "name": "stdout",
     "output_type": "stream",
     "text": [
      "n = 2\n",
      "0.5477020382430473\n",
      "2.012971550787276\n",
      "1.5615673075266259\n",
      "4.132201386540707\n",
      "1.5823267783039976\n",
      "n = 10\n",
      "0.8720692518057591\n",
      "1.5901220273416352\n",
      "1.5057445210777103\n",
      "1.0128961920125419\n",
      "0.8002470900333195\n",
      "n = 50\n",
      "1.1977995617640667\n",
      "1.2340195348381484\n",
      "1.4039718187152457\n",
      "1.03781008704566\n",
      "1.4811457282034266\n",
      "n = 500\n",
      "1.2624741892998168\n",
      "1.288000207309282\n",
      "1.2243835475126956\n",
      "1.2173789693524764\n",
      "1.2822231854017263\n"
     ]
    }
   ],
   "source": [
    "for i in range(4):\n",
    "    print('n = {}'.format(sizes[i]))\n",
    "    for j in range (5):\n",
    "        print(total_means[i][j])"
   ]
  },
  {
   "cell_type": "markdown",
   "metadata": {},
   "source": [
    "Кроме того, мы можем наблюдать, что стандартное отклонение выборочных средних стремится к значению $\\frac{\\sigma}{\\sqrt(n)}$:"
   ]
  },
  {
   "cell_type": "code",
   "execution_count": 105,
   "metadata": {},
   "outputs": [
    {
     "name": "stdout",
     "output_type": "stream",
     "text": [
      "Стандартное отклонение генеральной совокупности: 0.9811370239237184\n"
     ]
    }
   ],
   "source": [
    "std = sample.std()\n",
    "print('Стандартное отклонение генеральной совокупности: {}'.format(std))"
   ]
  },
  {
   "cell_type": "code",
   "execution_count": 107,
   "metadata": {},
   "outputs": [
    {
     "name": "stdout",
     "output_type": "stream",
     "text": [
      "Расчётное значение: 0.6937686428896491\n",
      "Действительное значение: 0.7159007774506287\n",
      "Расчётное значение: 0.3102627692318063\n",
      "Действительное значение: 0.30430514365566946\n",
      "Расчётное значение: 0.13875372857792984\n",
      "Действительное значение: 0.14057799088438444\n",
      "Расчётное значение: 0.04387778161470543\n",
      "Действительное значение: 0.04300483266031512\n"
     ]
    }
   ],
   "source": [
    "for i in range(4):\n",
    "    predicted_std = std / math.sqrt(sizes[i])\n",
    "    real_std = total_means[i].std()\n",
    "    print('Расчётное значение: {}'.format(predicted_std))\n",
    "    print('Действительное значение: {}'.format(real_std))"
   ]
  }
 ],
 "metadata": {
  "colab": {
   "name": "HW_9",
   "provenance": []
  },
  "kernelspec": {
   "display_name": "Python 3",
   "language": "python",
   "name": "python3"
  },
  "language_info": {
   "codemirror_mode": {
    "name": "ipython",
    "version": 3
   },
   "file_extension": ".py",
   "mimetype": "text/x-python",
   "name": "python",
   "nbconvert_exporter": "python",
   "pygments_lexer": "ipython3",
   "version": "3.8.5"
  }
 },
 "nbformat": 4,
 "nbformat_minor": 1
}
